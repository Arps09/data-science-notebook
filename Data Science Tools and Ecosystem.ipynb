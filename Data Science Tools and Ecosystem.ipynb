{
 "cells": [
  {
   "cell_type": "markdown",
   "metadata": {},
   "source": [
    "<center>\n",
    "    <img src=\"https://cf-courses-data.s3.us.cloud-object-storage.appdomain.cloud/IBMDeveloperSkillsNetwork-DS0105EN-SkillsNetwork/labs/Module2/images/SN_web_lightmode.png\" width=\"300\" alt=\"cognitiveclass.ai logo\">\n",
    "</center>\n"
   ]
  },
  {
   "cell_type": "markdown",
   "metadata": {},
   "source": [
    "#### Add your code below following the instructions given in the course\n"
   ]
  },
  {
   "cell_type": "code",
   "execution_count": null,
   "metadata": {},
   "outputs": [],
   "source": [
    "# Exercise 2 - Title of the Notebook\n",
    "# Data Science Tools and Ecosystem\n",
    "\n",
    "# Exercise 3 - Introduction\n",
    "In this notebook, we will explore some of the popular tools, languages, and libraries used in the field of Data Science.\n",
    "\n",
    "# Exercise 4 - Data Science Languages\n",
    "Some of the commonly used languages for Data Science include:\n",
    "- Python\n",
    "- R\n",
    "- SQL\n",
    "- Julia\n",
    "- Scala\n",
    "\n",
    "# Exercise 5 - Data Science Libraries\n",
    "Some of the commonly used libraries for Data Science include:\n",
    "- NumPy\n",
    "- Pandas\n",
    "- Matplotlib\n",
    "- Scikit-learn\n",
    "- TensorFlow\n",
    "\n",
    "# Exercise 6 - Data Science Tools Table\n",
    "| Data Science Tool     | Category        |\n",
    "|-----------------------|-----------------|\n",
    "| Jupyter Notebook      | IDE             |\n",
    "| RStudio               | IDE             |\n",
    "| Apache Spark          | Big Data Engine |\n",
    "| TensorFlow            | ML Library      |\n",
    "| Tableau               | Visualization   |\n",
    "\n",
    "# Exercise 7 - Arithmetic Expression Examples\n",
    "Below are examples of evaluating arithmetic expressions in Python.\n",
    "\n",
    "# Exercise 10 - Objectives\n",
    "Some of the objectives of this notebook are:\n",
    "- List popular languages for Data Science\n",
    "- List commonly used libraries in Data Science\n",
    "- Create and format markdown cells\n",
    "- Perform arithmetic operations using Python\n",
    "\n",
    "# Exercise 11 - Author\n",
    "**Author**: Arpita Mishra\n",
    "\n",
    "# Exercise 8 - Multiply and Add Numbers\n",
    "(3 * 4) + 5\n",
    "# Exercise 9 - Convert Minutes to Hours\n",
    "minutes = 200\n",
    "hours = minutes / 60\n",
    "hours\n",
    "\n"
   ]
  }
 ],
 "metadata": {
  "kernelspec": {
   "display_name": "Python 3 (ipykernel)",
   "language": "python",
   "name": "python3"
  },
  "language_info": {
   "codemirror_mode": {
    "name": "ipython",
    "version": 3
   },
   "file_extension": ".py",
   "mimetype": "text/x-python",
   "name": "python",
   "nbconvert_exporter": "python",
   "pygments_lexer": "ipython3",
   "version": "3.12.8"
  }
 },
 "nbformat": 4,
 "nbformat_minor": 4
}
